{
 "cells": [
  {
   "attachments": {},
   "cell_type": "markdown",
   "metadata": {},
   "source": [
    "### In This Notebook We will test our Hypotheses that we found from our analysis."
   ]
  },
  {
   "cell_type": "code",
   "execution_count": 130,
   "metadata": {},
   "outputs": [],
   "source": [
    "from scipy import stats\n",
    "import numpy as np\n",
    "import pandas as pd\n",
    "import warnings\n",
    "\n",
    "warnings.filterwarnings('ignore')"
   ]
  },
  {
   "cell_type": "code",
   "execution_count": 131,
   "metadata": {},
   "outputs": [
    {
     "data": {
      "text/html": [
       "<div>\n",
       "<style scoped>\n",
       "    .dataframe tbody tr th:only-of-type {\n",
       "        vertical-align: middle;\n",
       "    }\n",
       "\n",
       "    .dataframe tbody tr th {\n",
       "        vertical-align: top;\n",
       "    }\n",
       "\n",
       "    .dataframe thead th {\n",
       "        text-align: right;\n",
       "    }\n",
       "</style>\n",
       "<table border=\"1\" class=\"dataframe\">\n",
       "  <thead>\n",
       "    <tr style=\"text-align: right;\">\n",
       "      <th></th>\n",
       "      <th>Administrative</th>\n",
       "      <th>Administrative_Duration</th>\n",
       "      <th>Informational</th>\n",
       "      <th>Informational_Duration</th>\n",
       "      <th>ProductRelated</th>\n",
       "      <th>ProductRelated_Duration</th>\n",
       "      <th>BounceRates</th>\n",
       "      <th>ExitRates</th>\n",
       "      <th>PageValues</th>\n",
       "      <th>SpecialDay</th>\n",
       "      <th>Month</th>\n",
       "      <th>OperatingSystems</th>\n",
       "      <th>Browser</th>\n",
       "      <th>Region</th>\n",
       "      <th>TrafficType</th>\n",
       "      <th>VisitorType</th>\n",
       "      <th>Weekend</th>\n",
       "      <th>Revenue</th>\n",
       "    </tr>\n",
       "  </thead>\n",
       "  <tbody>\n",
       "    <tr>\n",
       "      <th>0</th>\n",
       "      <td>0</td>\n",
       "      <td>0.0</td>\n",
       "      <td>0</td>\n",
       "      <td>0.0</td>\n",
       "      <td>1</td>\n",
       "      <td>0.000000</td>\n",
       "      <td>0.20</td>\n",
       "      <td>0.20</td>\n",
       "      <td>0.0</td>\n",
       "      <td>0.0</td>\n",
       "      <td>Feb</td>\n",
       "      <td>1</td>\n",
       "      <td>1</td>\n",
       "      <td>1</td>\n",
       "      <td>1</td>\n",
       "      <td>Returning_Visitor</td>\n",
       "      <td>False</td>\n",
       "      <td>False</td>\n",
       "    </tr>\n",
       "    <tr>\n",
       "      <th>1</th>\n",
       "      <td>0</td>\n",
       "      <td>0.0</td>\n",
       "      <td>0</td>\n",
       "      <td>0.0</td>\n",
       "      <td>2</td>\n",
       "      <td>64.000000</td>\n",
       "      <td>0.00</td>\n",
       "      <td>0.10</td>\n",
       "      <td>0.0</td>\n",
       "      <td>0.0</td>\n",
       "      <td>Feb</td>\n",
       "      <td>2</td>\n",
       "      <td>2</td>\n",
       "      <td>1</td>\n",
       "      <td>2</td>\n",
       "      <td>Returning_Visitor</td>\n",
       "      <td>False</td>\n",
       "      <td>False</td>\n",
       "    </tr>\n",
       "    <tr>\n",
       "      <th>2</th>\n",
       "      <td>0</td>\n",
       "      <td>0.0</td>\n",
       "      <td>0</td>\n",
       "      <td>0.0</td>\n",
       "      <td>1</td>\n",
       "      <td>0.000000</td>\n",
       "      <td>0.20</td>\n",
       "      <td>0.20</td>\n",
       "      <td>0.0</td>\n",
       "      <td>0.0</td>\n",
       "      <td>Feb</td>\n",
       "      <td>4</td>\n",
       "      <td>1</td>\n",
       "      <td>9</td>\n",
       "      <td>3</td>\n",
       "      <td>Returning_Visitor</td>\n",
       "      <td>False</td>\n",
       "      <td>False</td>\n",
       "    </tr>\n",
       "    <tr>\n",
       "      <th>3</th>\n",
       "      <td>0</td>\n",
       "      <td>0.0</td>\n",
       "      <td>0</td>\n",
       "      <td>0.0</td>\n",
       "      <td>2</td>\n",
       "      <td>2.666667</td>\n",
       "      <td>0.05</td>\n",
       "      <td>0.14</td>\n",
       "      <td>0.0</td>\n",
       "      <td>0.0</td>\n",
       "      <td>Feb</td>\n",
       "      <td>3</td>\n",
       "      <td>2</td>\n",
       "      <td>2</td>\n",
       "      <td>4</td>\n",
       "      <td>Returning_Visitor</td>\n",
       "      <td>False</td>\n",
       "      <td>False</td>\n",
       "    </tr>\n",
       "    <tr>\n",
       "      <th>4</th>\n",
       "      <td>0</td>\n",
       "      <td>0.0</td>\n",
       "      <td>0</td>\n",
       "      <td>0.0</td>\n",
       "      <td>10</td>\n",
       "      <td>627.500000</td>\n",
       "      <td>0.02</td>\n",
       "      <td>0.05</td>\n",
       "      <td>0.0</td>\n",
       "      <td>0.0</td>\n",
       "      <td>Feb</td>\n",
       "      <td>3</td>\n",
       "      <td>3</td>\n",
       "      <td>1</td>\n",
       "      <td>4</td>\n",
       "      <td>Returning_Visitor</td>\n",
       "      <td>True</td>\n",
       "      <td>False</td>\n",
       "    </tr>\n",
       "  </tbody>\n",
       "</table>\n",
       "</div>"
      ],
      "text/plain": [
       "   Administrative  Administrative_Duration  Informational  \\\n",
       "0               0                      0.0              0   \n",
       "1               0                      0.0              0   \n",
       "2               0                      0.0              0   \n",
       "3               0                      0.0              0   \n",
       "4               0                      0.0              0   \n",
       "\n",
       "   Informational_Duration  ProductRelated  ProductRelated_Duration  \\\n",
       "0                     0.0               1                 0.000000   \n",
       "1                     0.0               2                64.000000   \n",
       "2                     0.0               1                 0.000000   \n",
       "3                     0.0               2                 2.666667   \n",
       "4                     0.0              10               627.500000   \n",
       "\n",
       "   BounceRates  ExitRates  PageValues  SpecialDay Month  OperatingSystems  \\\n",
       "0         0.20       0.20         0.0         0.0   Feb                 1   \n",
       "1         0.00       0.10         0.0         0.0   Feb                 2   \n",
       "2         0.20       0.20         0.0         0.0   Feb                 4   \n",
       "3         0.05       0.14         0.0         0.0   Feb                 3   \n",
       "4         0.02       0.05         0.0         0.0   Feb                 3   \n",
       "\n",
       "   Browser  Region  TrafficType        VisitorType  Weekend  Revenue  \n",
       "0        1       1            1  Returning_Visitor    False    False  \n",
       "1        2       1            2  Returning_Visitor    False    False  \n",
       "2        1       9            3  Returning_Visitor    False    False  \n",
       "3        2       2            4  Returning_Visitor    False    False  \n",
       "4        3       1            4  Returning_Visitor     True    False  "
      ]
     },
     "execution_count": 131,
     "metadata": {},
     "output_type": "execute_result"
    }
   ],
   "source": [
    "df = pd.read_csv('online_shoppers_intention.csv')\n",
    "df.head()"
   ]
  },
  {
   "attachments": {},
   "cell_type": "markdown",
   "metadata": {},
   "source": [
    "- Defining a function to test porportions of two groups."
   ]
  },
  {
   "cell_type": "code",
   "execution_count": 132,
   "metadata": {},
   "outputs": [],
   "source": [
    "def test_porportions(col, category_of_interest, alternative):\n",
    "    # Count the number of times source 2 appears\n",
    "    n_source_2 = df[col].value_counts()[category_of_interest]\n",
    "\n",
    "    # Count the number of times all other sources appear\n",
    "    n_other_sources = df.shape[0] - n_source_2\n",
    "\n",
    "    # Perform one-sample proportion test\n",
    "    p_other_sources = n_other_sources / df.shape[0]\n",
    "    p_value = stats.binom_test(n_source_2,\n",
    "                               n_source_2 + n_other_sources,\n",
    "                               p_other_sources, \n",
    "                               alternative=alternative)\n",
    "\n",
    "    print(f'P-Value is : {p_value:.3f}')"
   ]
  },
  {
   "attachments": {},
   "cell_type": "markdown",
   "metadata": {},
   "source": [
    "- Operating System source 2 is highest one being used. (reject the null hypothesis)\n",
    "    - H_0 : other sources >= source 2\n",
    "    - H_A : source 2 < other sources"
   ]
  },
  {
   "cell_type": "code",
   "execution_count": 133,
   "metadata": {},
   "outputs": [
    {
     "name": "stdout",
     "output_type": "stream",
     "text": [
      "P-Value is : 0.000\n"
     ]
    }
   ],
   "source": [
    "test_porportions(col='OperatingSystems', category_of_interest=2, alternative='greater')"
   ]
  },
  {
   "attachments": {},
   "cell_type": "markdown",
   "metadata": {},
   "source": [
    "- Browser source 2 is highest one being used. (reject the null hypothesis)\n",
    "    - H_0 : other sources >= source 2\n",
    "    - H_A : source 2 < other sources"
   ]
  },
  {
   "cell_type": "code",
   "execution_count": 134,
   "metadata": {},
   "outputs": [
    {
     "name": "stdout",
     "output_type": "stream",
     "text": [
      "P-Value is : 0.000\n"
     ]
    }
   ],
   "source": [
    "test_porportions(col='Browser', category_of_interest=2, alternative='greater')"
   ]
  },
  {
   "attachments": {},
   "cell_type": "markdown",
   "metadata": {},
   "source": [
    "- Region source 1 is highest one in the data. (fail to reject the null hypothesis) this is because source 3 has a considerable existence.\n",
    "    - H_0 : other sources >= source 1\n",
    "    - H_A : source 1 < other sources"
   ]
  },
  {
   "cell_type": "code",
   "execution_count": 135,
   "metadata": {},
   "outputs": [
    {
     "name": "stdout",
     "output_type": "stream",
     "text": [
      "P-Value is : 1.000\n"
     ]
    }
   ],
   "source": [
    "test_porportions(col='Region', category_of_interest=1, alternative='greater')"
   ]
  },
  {
   "cell_type": "code",
   "execution_count": 136,
   "metadata": {},
   "outputs": [
    {
     "name": "stdout",
     "output_type": "stream",
     "text": [
      "P-Value is : 0.000\n"
     ]
    }
   ],
   "source": [
    "# Count the number of times source 2 appears\n",
    "n_source_2 = df['Region'].value_counts()[[1, 3]].sum()\n",
    "\n",
    "# Count the number of times all other sources appear\n",
    "n_other_sources = df.shape[0] - n_source_2\n",
    "\n",
    "# Perform one-sample proportion test\n",
    "p_other_sources = n_other_sources / df.shape[0]\n",
    "p_value = stats.binom_test(n_source_2,\n",
    "                            n_source_2 + n_other_sources,\n",
    "                            p_other_sources, \n",
    "                            alternative='greater')\n",
    "\n",
    "print(f'P-Value is : {p_value:.3f}')"
   ]
  },
  {
   "attachments": {},
   "cell_type": "markdown",
   "metadata": {},
   "source": [
    "- Traffic Type source 2 is highest one being used. (fail reject the null hypothesis) this because sources [1, 3, 4] have considerabel existence.\n",
    "    - H_0 : other sources >= source 2\n",
    "    - H_A : source 2 < other sources"
   ]
  },
  {
   "cell_type": "code",
   "execution_count": 137,
   "metadata": {},
   "outputs": [
    {
     "name": "stdout",
     "output_type": "stream",
     "text": [
      "P-Value is : 1.000\n"
     ]
    }
   ],
   "source": [
    "test_porportions(col='TrafficType', category_of_interest=2, alternative='greater')"
   ]
  },
  {
   "cell_type": "code",
   "execution_count": 138,
   "metadata": {},
   "outputs": [
    {
     "name": "stdout",
     "output_type": "stream",
     "text": [
      "P-Value is : 0.000\n"
     ]
    }
   ],
   "source": [
    "# Count the number of times source 2 appears\n",
    "n_source_2 = df['TrafficType'].value_counts()[[1, 2, 3, 4]].sum()\n",
    "\n",
    "# Count the number of times all other sources appear\n",
    "n_other_sources = df.shape[0] - n_source_2\n",
    "\n",
    "# Perform one-sample proportion test\n",
    "p_other_sources = n_other_sources / df.shape[0]\n",
    "p_value = stats.binom_test(n_source_2,\n",
    "                            n_source_2 + n_other_sources,\n",
    "                            p_other_sources, \n",
    "                            alternative='greater')\n",
    "\n",
    "print(f'P-Value is : {p_value:.3f}')"
   ]
  },
  {
   "attachments": {},
   "cell_type": "markdown",
   "metadata": {},
   "source": [
    "- [May, November] are highest Months people tend to use our website. (reject the null hypothesis)\n",
    "    - H_0 : other months >= [May, November]\n",
    "    - H_A : [May, November] < other months"
   ]
  },
  {
   "cell_type": "code",
   "execution_count": 139,
   "metadata": {},
   "outputs": [
    {
     "name": "stdout",
     "output_type": "stream",
     "text": [
      "P-Value is : 0.000\n"
     ]
    }
   ],
   "source": [
    "# Count the number of times source 2 appears\n",
    "n_source_2 = df['Month'].value_counts()[['May', 'Nov']].sum()\n",
    "\n",
    "# Count the number of times all other sources appear\n",
    "n_other_sources = df.shape[0] - n_source_2\n",
    "\n",
    "# Perform one-sample proportion test\n",
    "p_other_sources = n_other_sources / df.shape[0]\n",
    "p_value = stats.binom_test(n_source_2,\n",
    "                            n_source_2 + n_other_sources,\n",
    "                            p_other_sources, \n",
    "                            alternative='greater')\n",
    "\n",
    "print(f'P-Value is : {p_value:.3f}')"
   ]
  },
  {
   "attachments": {},
   "cell_type": "markdown",
   "metadata": {},
   "source": [
    "- Returning visitors Type are highest type visiting our website. (reject the null hypothesis)\n",
    "    - H_0 : other types >= Returning visitors\n",
    "    - H_A : Returning visitors < other types"
   ]
  },
  {
   "cell_type": "code",
   "execution_count": 140,
   "metadata": {},
   "outputs": [
    {
     "name": "stdout",
     "output_type": "stream",
     "text": [
      "P-Value is : 0.000\n"
     ]
    }
   ],
   "source": [
    "test_porportions(col='VisitorType', category_of_interest='Returning_Visitor', alternative='greater')"
   ]
  },
  {
   "attachments": {},
   "cell_type": "markdown",
   "metadata": {},
   "source": [
    "- People tend to use our website during weekdays. (reject the null hypothesis)\n",
    "    - H_0 : weekends >= weekdays\n",
    "    - H_A : weekdays < weekends"
   ]
  },
  {
   "cell_type": "code",
   "execution_count": 141,
   "metadata": {},
   "outputs": [
    {
     "name": "stdout",
     "output_type": "stream",
     "text": [
      "P-Value is : 0.000\n"
     ]
    }
   ],
   "source": [
    "test_porportions(col='Weekend', category_of_interest=False, alternative='greater')"
   ]
  },
  {
   "attachments": {},
   "cell_type": "markdown",
   "metadata": {},
   "source": [
    "- Most People don't generate Revenues. (reject the null hypothesis)\n",
    "    - H_0 : revenues >= no-revenues\n",
    "    - H_A : no-revenues < revenues"
   ]
  },
  {
   "cell_type": "code",
   "execution_count": 142,
   "metadata": {},
   "outputs": [
    {
     "name": "stdout",
     "output_type": "stream",
     "text": [
      "P-Value is : 0.000\n"
     ]
    }
   ],
   "source": [
    "test_porportions(col='Revenue', category_of_interest=False, alternative='greater')"
   ]
  },
  {
   "attachments": {},
   "cell_type": "markdown",
   "metadata": {},
   "source": [
    "- 0.0 value in SpecialDay is the most existent value in the dataset. (reject the null hypothesis)\n",
    "    - H_0 : other values >= 0.0 value\n",
    "    - H_A : 0.0 value < other values"
   ]
  },
  {
   "cell_type": "code",
   "execution_count": 143,
   "metadata": {},
   "outputs": [
    {
     "name": "stdout",
     "output_type": "stream",
     "text": [
      "P-Value is : 0.000\n"
     ]
    }
   ],
   "source": [
    "test_porportions(col='SpecialDay', category_of_interest=0.0, alternative='greater')"
   ]
  },
  {
   "attachments": {},
   "cell_type": "markdown",
   "metadata": {},
   "source": [
    "- Administrative source 0 is highest one being used. (fail reject the null hypothesis)\n",
    "    - H_0 : other sources >= source 0\n",
    "    - H_A : source 0 < other sources"
   ]
  },
  {
   "cell_type": "code",
   "execution_count": 144,
   "metadata": {},
   "outputs": [
    {
     "name": "stdout",
     "output_type": "stream",
     "text": [
      "P-Value is : 1.000\n"
     ]
    }
   ],
   "source": [
    "test_porportions(col='Administrative', category_of_interest=0, alternative='greater')"
   ]
  },
  {
   "attachments": {},
   "cell_type": "markdown",
   "metadata": {},
   "source": [
    "- Informational source 0 is highest one being used. (reject the null hypothesis)\n",
    "    - H_0 : other sources >= source 0\n",
    "    - H_A : source 0 < other sources"
   ]
  },
  {
   "cell_type": "code",
   "execution_count": 145,
   "metadata": {},
   "outputs": [
    {
     "name": "stdout",
     "output_type": "stream",
     "text": [
      "P-Value is : 0.000\n"
     ]
    }
   ],
   "source": [
    "test_porportions(col='Informational', category_of_interest=0, alternative='greater')"
   ]
  },
  {
   "attachments": {},
   "cell_type": "markdown",
   "metadata": {},
   "source": [
    "# **----------------------------------------------------------------------------------------**"
   ]
  },
  {
   "attachments": {},
   "cell_type": "markdown",
   "metadata": {},
   "source": [
    "#### We will define a function to test the two proportions test."
   ]
  },
  {
   "cell_type": "code",
   "execution_count": 146,
   "metadata": {},
   "outputs": [],
   "source": [
    "def test_two_samples(col, categroy_of_interest, alternative='greater'):\n",
    "    mask = df[col] == categroy_of_interest\n",
    "    \n",
    "    revenue = df['Revenue'][mask]\n",
    "    no_revenue = df['Revenue'][~mask]\n",
    "\n",
    "    t_stat, p_value = stats.ttest_ind(revenue, no_revenue, alternative=alternative)\n",
    "    print(f'statistic is : {t_stat:.003f}, p-value: {p_value:.003f}')"
   ]
  },
  {
   "attachments": {},
   "cell_type": "markdown",
   "metadata": {},
   "source": [
    "- Returning_Visitor tend to generate revenues more than other visitors types (fail to reject the null hypothesis, and found that New_Visitors are highest generating revenues)\n",
    "    - H_0 :  Other visitors types >= Returning_Visitor revenues\n",
    "    - H_1 : Returning_Visitor revenues < ther visitors types"
   ]
  },
  {
   "cell_type": "code",
   "execution_count": 147,
   "metadata": {},
   "outputs": [
    {
     "name": "stdout",
     "output_type": "stream",
     "text": [
      "statistic is : -11.592, p-value: 1.000\n"
     ]
    }
   ],
   "source": [
    "test_two_samples(col='VisitorType', categroy_of_interest='Returning_Visitor')"
   ]
  },
  {
   "cell_type": "code",
   "execution_count": 148,
   "metadata": {},
   "outputs": [
    {
     "name": "stdout",
     "output_type": "stream",
     "text": [
      "statistic is : 11.626, p-value: 0.000\n"
     ]
    }
   ],
   "source": [
    "test_two_samples(col='VisitorType', categroy_of_interest='New_Visitor')"
   ]
  },
  {
   "attachments": {},
   "cell_type": "markdown",
   "metadata": {},
   "source": [
    "- Traffic Type source 2 tend to generate revenues more than other traffic types (reject the null hypothesis)\n",
    "    - H_0 :  Other sources >= source 2 revenues\n",
    "    - H_1 : source 2 revenues < Other sources"
   ]
  },
  {
   "cell_type": "code",
   "execution_count": 149,
   "metadata": {},
   "outputs": [
    {
     "name": "stdout",
     "output_type": "stream",
     "text": [
      "statistic is : 13.006, p-value: 0.000\n"
     ]
    }
   ],
   "source": [
    "test_two_samples(col='TrafficType', categroy_of_interest=2)"
   ]
  },
  {
   "attachments": {},
   "cell_type": "markdown",
   "metadata": {},
   "source": [
    "- Region source 2 tend to generate revenues more than other Region sources (fail to reject the null hypothesis)\n",
    "    - H_0 :  Other sources >= source 1 revenues\n",
    "    - H_1 : source 1 revenues < Other sources"
   ]
  },
  {
   "cell_type": "code",
   "execution_count": 150,
   "metadata": {},
   "outputs": [
    {
     "name": "stdout",
     "output_type": "stream",
     "text": [
      "statistic is : 1.601, p-value: 0.055\n"
     ]
    }
   ],
   "source": [
    "test_two_samples(col='Region', categroy_of_interest=1)"
   ]
  },
  {
   "attachments": {},
   "cell_type": "markdown",
   "metadata": {},
   "source": [
    "- Browser source 2 tend to generate revenues more than other Browser sources (fail to reject the null hypothesis)\n",
    "    - H_0 :  Other sources >= source 2 revenues\n",
    "    - H_1 : source 2 revenues < Other sources"
   ]
  },
  {
   "cell_type": "code",
   "execution_count": 151,
   "metadata": {},
   "outputs": [
    {
     "name": "stdout",
     "output_type": "stream",
     "text": [
      "statistic is : -0.464, p-value: 0.679\n"
     ]
    }
   ],
   "source": [
    "test_two_samples(col='Browser', categroy_of_interest=2)"
   ]
  },
  {
   "attachments": {},
   "cell_type": "markdown",
   "metadata": {},
   "source": [
    "- Operating System source 2 tend to generate revenues more than other operating system sources (reject the null hypothesis)\n",
    "    - H_0 :  Other sources >= source 2 revenues\n",
    "    - H_1 : source 2 revenues < Other sources"
   ]
  },
  {
   "cell_type": "code",
   "execution_count": 152,
   "metadata": {},
   "outputs": [
    {
     "name": "stdout",
     "output_type": "stream",
     "text": [
      "statistic is : 6.678, p-value: 0.000\n"
     ]
    }
   ],
   "source": [
    "test_two_samples(col='OperatingSystems', categroy_of_interest=2)"
   ]
  },
  {
   "attachments": {},
   "cell_type": "markdown",
   "metadata": {},
   "source": [
    "- People tend to genrate revenues in November more than other months (reject the null hypothesis)\n",
    "    - H_0 :  Other month revenue >= November revenues\n",
    "    - H_1 : November revenues < Other month revenue"
   ]
  },
  {
   "cell_type": "code",
   "execution_count": 153,
   "metadata": {},
   "outputs": [
    {
     "name": "stdout",
     "output_type": "stream",
     "text": [
      "statistic is : 17.394, p-value: 0.000\n"
     ]
    }
   ],
   "source": [
    "test_two_samples(col='Month', categroy_of_interest='Nov')"
   ]
  },
  {
   "attachments": {},
   "cell_type": "markdown",
   "metadata": {},
   "source": [
    "- 0.0 value of SpecialDay tend to genrate more revenues than any other values of SpecialDay (reject the null hypothesis)\n",
    "    - H_0 :  Other values >= 0.0 value revenues\n",
    "    - H_1 : 0.0 value revenues < Other values"
   ]
  },
  {
   "cell_type": "code",
   "execution_count": 154,
   "metadata": {},
   "outputs": [
    {
     "name": "stdout",
     "output_type": "stream",
     "text": [
      "statistic is : 9.650, p-value: 0.000\n"
     ]
    }
   ],
   "source": [
    "test_two_samples(col='SpecialDay', categroy_of_interest=0.0)"
   ]
  },
  {
   "cell_type": "code",
   "execution_count": null,
   "metadata": {},
   "outputs": [],
   "source": []
  }
 ],
 "metadata": {
  "kernelspec": {
   "display_name": "Python 3",
   "language": "python",
   "name": "python3"
  },
  "language_info": {
   "codemirror_mode": {
    "name": "ipython",
    "version": 3
   },
   "file_extension": ".py",
   "mimetype": "text/x-python",
   "name": "python",
   "nbconvert_exporter": "python",
   "pygments_lexer": "ipython3",
   "version": "3.10.7"
  },
  "orig_nbformat": 4
 },
 "nbformat": 4,
 "nbformat_minor": 2
}
